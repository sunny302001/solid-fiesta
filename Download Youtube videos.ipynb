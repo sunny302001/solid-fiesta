{
 "cells": [
  {
   "cell_type": "code",
   "execution_count": 1,
   "id": "7e564b77",
   "metadata": {},
   "outputs": [
    {
     "name": "stdout",
     "output_type": "stream",
     "text": [
      "Collecting pytube\n",
      "  Downloading pytube-15.0.0-py3-none-any.whl (57 kB)\n",
      "                                              0.0/57.6 kB ? eta -:--:--\n",
      "     ---------------------------------------- 57.6/57.6 kB 3.0 MB/s eta 0:00:00\n",
      "Installing collected packages: pytube\n",
      "Successfully installed pytube-15.0.0\n",
      "Note: you may need to restart the kernel to use updated packages.\n"
     ]
    }
   ],
   "source": [
    "pip install pytube\n"
   ]
  },
  {
   "cell_type": "code",
   "execution_count": null,
   "id": "762af9f5",
   "metadata": {},
   "outputs": [],
   "source": [
    "from pytube import YouTube\n",
    "\n",
    "def download_youtube_video(video_url, output_path):\n",
    "    try:\n",
    "        # Create a YouTube object\n",
    "        yt = YouTube(video_url)\n",
    "\n",
    "        # Get the highest resolution stream (first stream in the list)\n",
    "        video_stream = yt.streams.filter(file_extension=\"mp4\").first()\n",
    "\n",
    "        # Download the video\n",
    "        print(\"Downloading video...\")\n",
    "        video_stream.download(output_path=output_path)\n",
    "        print(\"Video downloaded successfully!\")\n",
    "    except Exception as e:\n",
    "        print(f\"Error: {e}\")\n",
    "\n",
    "if __name__ == \"__main__\":\n",
    "    video_url = \"INSERT_YOUTUBE_VIDEO_URL_HERE\"\n",
    "    output_path = \"INSERT_OUTPUT_PATH_HERE\"\n",
    "\n",
    "    download_youtube_video(video_url, output_path)\n"
   ]
  },
  {
   "cell_type": "code",
   "execution_count": 2,
   "id": "33125528",
   "metadata": {},
   "outputs": [
    {
     "name": "stdout",
     "output_type": "stream",
     "text": [
      "Downloading audio...\n",
      "Audio downloaded successfully!\n"
     ]
    }
   ],
   "source": [
    "from pytube import YouTube\n",
    "\n",
    "def download_youtube_audio(video_url, output_path):\n",
    "    try:\n",
    "        # Create a YouTube object\n",
    "        yt = YouTube(video_url)\n",
    "\n",
    "        # Get the audio stream with the highest quality\n",
    "        audio_stream = yt.streams.filter(only_audio=True).first()\n",
    "\n",
    "        # Download the audio\n",
    "        print(\"Downloading audio...\")\n",
    "        audio_stream.download(output_path=output_path)\n",
    "        print(\"Audio downloaded successfully!\")\n",
    "    except Exception as e:\n",
    "        print(f\"Error: {e}\")\n",
    "\n",
    "if __name__ == \"__main__\":\n",
    "    video_url = \"https://www.youtube.com/watch?v=MPdt2we7bQ0\"\n",
    "    output_path = \"amma_ringtone.mp3\"\n",
    "\n",
    "    download_youtube_audio(video_url, output_path)\n"
   ]
  },
  {
   "cell_type": "code",
   "execution_count": null,
   "id": "d7d16c87",
   "metadata": {},
   "outputs": [],
   "source": []
  }
 ],
 "metadata": {
  "kernelspec": {
   "display_name": "Python 3 (ipykernel)",
   "language": "python",
   "name": "python3"
  },
  "language_info": {
   "codemirror_mode": {
    "name": "ipython",
    "version": 3
   },
   "file_extension": ".py",
   "mimetype": "text/x-python",
   "name": "python",
   "nbconvert_exporter": "python",
   "pygments_lexer": "ipython3",
   "version": "3.11.3"
  }
 },
 "nbformat": 4,
 "nbformat_minor": 5
}
